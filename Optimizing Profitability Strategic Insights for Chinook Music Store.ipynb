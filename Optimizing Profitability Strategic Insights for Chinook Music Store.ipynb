{
 "cells": [
  {
   "cell_type": "code",
   "execution_count": 1,
   "id": "d9202096",
   "metadata": {},
   "outputs": [],
   "source": [
    "import sqlite3 as sql\n",
    "import pandas as pd \n",
    "import seaborn as sns\n",
    "import matplotlib.pyplot as plt\n",
    "import numpy as np\n",
    "import plotly.express as px"
   ]
  },
  {
   "cell_type": "code",
   "execution_count": 2,
   "id": "182581c2",
   "metadata": {},
   "outputs": [],
   "source": [
    "db = 'chinook.db'"
   ]
  },
  {
   "cell_type": "code",
   "execution_count": 3,
   "id": "dd55398e",
   "metadata": {},
   "outputs": [],
   "source": [
    "def run_query (q):\n",
    "    with sql.connect(db) as conn:\n",
    "        return pd.read_sql_query(q,conn)"
   ]
  },
  {
   "cell_type": "markdown",
   "id": "619a6ba6",
   "metadata": {},
   "source": [
    "## Genre Analysis for Album Selection : Identifying Top-Selling Genres in USA "
   ]
  },
  {
   "cell_type": "markdown",
   "id": "c32d84d3",
   "metadata": {},
   "source": [
    "##### Chinook record store wants to select three albums to add from a list of four new artists, each belonging to different genres. The genres include Hip-Hop, Punk, Pop, and Blues. The record label focuses on US artists and plans to advertise in the USA."
   ]
  },
  {
   "cell_type": "markdown",
   "id": "b84357fb",
   "metadata": {},
   "source": [
    "To decide which album to choose, we need to find out which genres are most popular in USA. We'll do this by querying the database to see which genres sell the most tracksin the USA. Based onthis info, we'll make recommendations for the three artists whose album chinook should purchase."
   ]
  },
  {
   "cell_type": "code",
   "execution_count": 6,
   "id": "dd3958b3",
   "metadata": {},
   "outputs": [],
   "source": [
    "q = \"\"\" \n",
    "WITH usa_tracks AS\n",
    "    (\n",
    "    SELECT t.genre_id AS genre_id, il.invoice_line_id \n",
    "        FROM track as t\n",
    "    INNER JOIN invoice_line as il ON il.track_id=t.track_id \n",
    "    INNER JOIN invoice as i ON i.invoice_id = il.invoice_id \n",
    "    WHERE i.billing_country= 'USA'\n",
    "    )\n",
    "    \n",
    "SELECT g.name genre_name,\n",
    "        COUNT (usa.genre_id) num_purchases,\n",
    "        ROUND ((CAST(COUNT(usa.genre_id) AS FLOAT)/ (SELECT COUNT(genre_id)\n",
    "                                    FROM usa_tracks)) *100,2) AS percentage_sold\n",
    "                                    \n",
    "FROM usa_tracks AS usa \n",
    "INNER JOIN genre as g ON g.genre_id= usa.genre_id\n",
    "\n",
    "GROUP BY g.name \n",
    "ORDER BY num_purchases DESC \"\"\""
   ]
  },
  {
   "cell_type": "code",
   "execution_count": 7,
   "id": "3641e23e",
   "metadata": {},
   "outputs": [
    {
     "data": {
      "text/html": [
       "<div>\n",
       "<style scoped>\n",
       "    .dataframe tbody tr th:only-of-type {\n",
       "        vertical-align: middle;\n",
       "    }\n",
       "\n",
       "    .dataframe tbody tr th {\n",
       "        vertical-align: top;\n",
       "    }\n",
       "\n",
       "    .dataframe thead th {\n",
       "        text-align: right;\n",
       "    }\n",
       "</style>\n",
       "<table border=\"1\" class=\"dataframe\">\n",
       "  <thead>\n",
       "    <tr style=\"text-align: right;\">\n",
       "      <th></th>\n",
       "      <th>genre_name</th>\n",
       "      <th>num_purchases</th>\n",
       "      <th>percentage_sold</th>\n",
       "    </tr>\n",
       "  </thead>\n",
       "  <tbody>\n",
       "    <tr>\n",
       "      <th>0</th>\n",
       "      <td>Rock</td>\n",
       "      <td>561</td>\n",
       "      <td>53.38</td>\n",
       "    </tr>\n",
       "    <tr>\n",
       "      <th>1</th>\n",
       "      <td>Alternative &amp; Punk</td>\n",
       "      <td>130</td>\n",
       "      <td>12.37</td>\n",
       "    </tr>\n",
       "    <tr>\n",
       "      <th>2</th>\n",
       "      <td>Metal</td>\n",
       "      <td>124</td>\n",
       "      <td>11.80</td>\n",
       "    </tr>\n",
       "    <tr>\n",
       "      <th>3</th>\n",
       "      <td>R&amp;B/Soul</td>\n",
       "      <td>53</td>\n",
       "      <td>5.04</td>\n",
       "    </tr>\n",
       "    <tr>\n",
       "      <th>4</th>\n",
       "      <td>Blues</td>\n",
       "      <td>36</td>\n",
       "      <td>3.43</td>\n",
       "    </tr>\n",
       "    <tr>\n",
       "      <th>5</th>\n",
       "      <td>Alternative</td>\n",
       "      <td>35</td>\n",
       "      <td>3.33</td>\n",
       "    </tr>\n",
       "    <tr>\n",
       "      <th>6</th>\n",
       "      <td>Pop</td>\n",
       "      <td>22</td>\n",
       "      <td>2.09</td>\n",
       "    </tr>\n",
       "    <tr>\n",
       "      <th>7</th>\n",
       "      <td>Latin</td>\n",
       "      <td>22</td>\n",
       "      <td>2.09</td>\n",
       "    </tr>\n",
       "    <tr>\n",
       "      <th>8</th>\n",
       "      <td>Hip Hop/Rap</td>\n",
       "      <td>20</td>\n",
       "      <td>1.90</td>\n",
       "    </tr>\n",
       "    <tr>\n",
       "      <th>9</th>\n",
       "      <td>Jazz</td>\n",
       "      <td>14</td>\n",
       "      <td>1.33</td>\n",
       "    </tr>\n",
       "    <tr>\n",
       "      <th>10</th>\n",
       "      <td>Easy Listening</td>\n",
       "      <td>13</td>\n",
       "      <td>1.24</td>\n",
       "    </tr>\n",
       "    <tr>\n",
       "      <th>11</th>\n",
       "      <td>Reggae</td>\n",
       "      <td>6</td>\n",
       "      <td>0.57</td>\n",
       "    </tr>\n",
       "    <tr>\n",
       "      <th>12</th>\n",
       "      <td>Electronica/Dance</td>\n",
       "      <td>5</td>\n",
       "      <td>0.48</td>\n",
       "    </tr>\n",
       "    <tr>\n",
       "      <th>13</th>\n",
       "      <td>Classical</td>\n",
       "      <td>4</td>\n",
       "      <td>0.38</td>\n",
       "    </tr>\n",
       "    <tr>\n",
       "      <th>14</th>\n",
       "      <td>Heavy Metal</td>\n",
       "      <td>3</td>\n",
       "      <td>0.29</td>\n",
       "    </tr>\n",
       "    <tr>\n",
       "      <th>15</th>\n",
       "      <td>Soundtrack</td>\n",
       "      <td>2</td>\n",
       "      <td>0.19</td>\n",
       "    </tr>\n",
       "    <tr>\n",
       "      <th>16</th>\n",
       "      <td>TV Shows</td>\n",
       "      <td>1</td>\n",
       "      <td>0.10</td>\n",
       "    </tr>\n",
       "  </tbody>\n",
       "</table>\n",
       "</div>"
      ],
      "text/plain": [
       "            genre_name  num_purchases  percentage_sold\n",
       "0                 Rock            561            53.38\n",
       "1   Alternative & Punk            130            12.37\n",
       "2                Metal            124            11.80\n",
       "3             R&B/Soul             53             5.04\n",
       "4                Blues             36             3.43\n",
       "5          Alternative             35             3.33\n",
       "6                  Pop             22             2.09\n",
       "7                Latin             22             2.09\n",
       "8          Hip Hop/Rap             20             1.90\n",
       "9                 Jazz             14             1.33\n",
       "10      Easy Listening             13             1.24\n",
       "11              Reggae              6             0.57\n",
       "12   Electronica/Dance              5             0.48\n",
       "13           Classical              4             0.38\n",
       "14         Heavy Metal              3             0.29\n",
       "15          Soundtrack              2             0.19\n",
       "16            TV Shows              1             0.10"
      ]
     },
     "execution_count": 7,
     "metadata": {},
     "output_type": "execute_result"
    }
   ],
   "source": [
    "df = run_query(q)\n",
    "df"
   ]
  },
  {
   "cell_type": "code",
   "execution_count": 10,
   "id": "11ca4a43",
   "metadata": {},
   "outputs": [
    {
     "name": "stderr",
     "output_type": "stream",
     "text": [
      "C:\\Users\\hp\\AppData\\Local\\Temp\\ipykernel_12332\\739999180.py:19: UserWarning: FixedFormatter should only be used together with FixedLocator\n",
      "  ax.set_yticklabels(df['genre_name'], fontsize=10.5, color='grey')\n"
     ]
    },
    {
     "data": {
      "image/png": "[encoded data removed]",
      "text/plain": [
       "<Figure size 800x500 with 1 Axes>"
      ]
     },
     "metadata": {},
     "output_type": "display_data"
    }
   ],
   "source": [
    "import matplotlib.pyplot as plt\n",
    "\n",
    "# Sorting the DataFrame by percentage sold\n",
    "df = df.sort_values(by='percentage_sold')\n",
    "\n",
    "# Creating a color map to identify key albums of interest\n",
    "album_options = ['Hip Hop/Rap', 'Alternative & Punk', 'Blues', 'Pop']\n",
    "cmap = df['genre_name'].apply(lambda x: '#0064AB' if x in album_options else '#BABABA')\n",
    "\n",
    "# Creating the bar plot\n",
    "fig, ax = plt.subplots(figsize=(8, 5)) # Adjusted figsize\n",
    "bars = ax.barh(df['genre_name'], df['percentage_sold'], height=0.8, color=cmap, alpha=0.6)\n",
    "\n",
    "# Adding text and adjusting width of bars\n",
    "for bar, percentage in zip(bars, df['percentage_sold']):\n",
    "    ax.text(bar.get_width()+0.5, bar.get_y() + bar.get_height()/2, f'{percentage}%', va='center', ha='left', fontsize=10, color='#0064AB')\n",
    "\n",
    "# Customizing axes and Layout\n",
    "ax.set_yticklabels(df['genre_name'], fontsize=10.5, color='grey')\n",
    "ax.set_xticks([])\n",
    "plt.text(-0.2, 1.07, 'Best Selling Genres in the USA', fontsize=20, fontweight='bold', color='#313636', transform=plt.gca().transAxes)\n",
    "plt.text(-0.2, 1.02, 'Percentage of total sales by genre. Current purchase options are highlighted in blue', fontsize=12, color='#313636', transform=plt.gca().transAxes)\n",
    "ax.spines['top'].set_visible(False)\n",
    "ax.spines['right'].set_visible(False)\n",
    "ax.spines['bottom'].set_visible(False)\n",
    "\n",
    "# Adjusting Left spine opacity\n",
    "ax.spines['left'].set_color('#000000')  \n",
    "ax.spines['left'].set_alpha(0.2)        \n",
    "\n",
    "# Removing y-axis tick parameters\n",
    "ax.tick_params(axis='y', which='both', length=0)\n",
    "\n",
    "plt.tight_layout()\n",
    "plt.show()\n"
   ]
  },
  {
   "cell_type": "markdown",
   "id": "fdd8c17b",
   "metadata": {},
   "source": [
    "### Results"
   ]
  },
  {
   "cell_type": "markdown",
   "id": "1be0459c",
   "metadata": {},
   "source": [
    ">Based on the genre sales pattern in the USA. Chinook should select these options from the list of available albums.\n",
    ">- Punk: Red Tone\n",
    ">- Blues: Slim Jim Bites.\n",
    ">- Pop: Meteor and the Girls\n",
    "\n",
    ">It's worth noting that these three genres only make up 17% of total sales. To maximize profitability, the company should be on the lookout for Rock songs since they account for 53% of sales in the US market."
   ]
  },
  {
   "cell_type": "markdown",
   "id": "95631737",
   "metadata": {},
   "source": [
    "## Employee Sales Performance Analysis"
   ]
  },
  {
   "cell_type": "markdown",
   "id": "6ff24da0",
   "metadata": {},
   "source": [
    "#### The Situation"
   ]
  },
  {
   "cell_type": "markdown",
   "id": "f5111482",
   "metadata": {},
   "source": [
    "After an initial purchase, each Chinook customer is assigned to a sales support agent. The company asked us to analyze purchases from customers belonging to each sales agent. They want to know if some agents are performing better or worse than others."
   ]
  },
  {
   "cell_type": "markdown",
   "id": "3f30552f",
   "metadata": {},
   "source": [
    "#### Analysis"
   ]
  },
  {
   "cell_type": "markdown",
   "id": "7cb8340b",
   "metadata": {},
   "source": [
    "To answer this question, we need to extract the names of the sales executives, their hire dates, the number of accounts they handle, and the total purchases made by these accounts. We will also compute the average sales for each account that the sales executives manage."
   ]
  },
  {
   "cell_type": "code",
   "execution_count": 11,
   "id": "778e5ee3",
   "metadata": {},
   "outputs": [],
   "source": [
    "q = \"\"\"\n",
    "        WITH t1 AS (SELECT em.first_name || ' ' || em.last_name AS sales_rep_name,\n",
    "                            em.hire_date,\n",
    "                            COUNT(cu.customer_id) AS num_invoices,\n",
    "                            CAST (SUM(iv.total) AS Integer) AS total_sales\n",
    "                    FROM employee em \n",
    "                    JOIN customer cu\n",
    "                        ON em.employee_id = cu.support_rep_id \n",
    "                    JOIN invoice iv\n",
    "                        ON iv.customer_id= cu.customer_id\n",
    "                    GROUP BY 1\n",
    "                    ORDER BY 4 DESC)\n",
    "                    \n",
    "        SELECT *,\n",
    "                ROUND (CAST(total_sales AS Float) / num_invoices, 2)\n",
    "                AS sales_per_customer\n",
    "            FROM t1;\n",
    "\"\"\""
   ]
  },
  {
   "cell_type": "code",
   "execution_count": 12,
   "id": "b5a4ba40",
   "metadata": {},
   "outputs": [
    {
     "data": {
      "text/html": [
       "<div>\n",
       "<style scoped>\n",
       "    .dataframe tbody tr th:only-of-type {\n",
       "        vertical-align: middle;\n",
       "    }\n",
       "\n",
       "    .dataframe tbody tr th {\n",
       "        vertical-align: top;\n",
       "    }\n",
       "\n",
       "    .dataframe thead th {\n",
       "        text-align: right;\n",
       "    }\n",
       "</style>\n",
       "<table border=\"1\" class=\"dataframe\">\n",
       "  <thead>\n",
       "    <tr style=\"text-align: right;\">\n",
       "      <th></th>\n",
       "      <th>sales_rep_name</th>\n",
       "      <th>hire_date</th>\n",
       "      <th>num_invoices</th>\n",
       "      <th>total_sales</th>\n",
       "      <th>sales_per_customer</th>\n",
       "    </tr>\n",
       "  </thead>\n",
       "  <tbody>\n",
       "    <tr>\n",
       "      <th>0</th>\n",
       "      <td>Jane Peacock</td>\n",
       "      <td>2017-04-01 00:00:00</td>\n",
       "      <td>212</td>\n",
       "      <td>1731</td>\n",
       "      <td>8.17</td>\n",
       "    </tr>\n",
       "    <tr>\n",
       "      <th>1</th>\n",
       "      <td>Margaret Park</td>\n",
       "      <td>2017-05-03 00:00:00</td>\n",
       "      <td>214</td>\n",
       "      <td>1584</td>\n",
       "      <td>7.40</td>\n",
       "    </tr>\n",
       "    <tr>\n",
       "      <th>2</th>\n",
       "      <td>Steve Johnson</td>\n",
       "      <td>2017-10-17 00:00:00</td>\n",
       "      <td>188</td>\n",
       "      <td>1393</td>\n",
       "      <td>7.41</td>\n",
       "    </tr>\n",
       "  </tbody>\n",
       "</table>\n",
       "</div>"
      ],
      "text/plain": [
       "  sales_rep_name            hire_date  num_invoices  total_sales  \\\n",
       "0   Jane Peacock  2017-04-01 00:00:00           212         1731   \n",
       "1  Margaret Park  2017-05-03 00:00:00           214         1584   \n",
       "2  Steve Johnson  2017-10-17 00:00:00           188         1393   \n",
       "\n",
       "   sales_per_customer  \n",
       "0                8.17  \n",
       "1                7.40  \n",
       "2                7.41  "
      ]
     },
     "execution_count": 12,
     "metadata": {},
     "output_type": "execute_result"
    }
   ],
   "source": [
    "df = run_query(q)\n",
    "df"
   ]
  },
  {
   "cell_type": "code",
   "execution_count": 19,
   "id": "cbf5febb",
   "metadata": {},
   "outputs": [
    {
     "data": {
      "image/png": "[encoded data removed]",
      "text/plain": [
       "<Figure size 1000x800 with 2 Axes>"
      ]
     },
     "metadata": {},
     "output_type": "display_data"
    }
   ],
   "source": [
    "import matplotlib.pyplot as plt\n",
    "\n",
    "# Data\n",
    "sales_rep_name = df[\"sales_rep_name\"].values\n",
    "total_sales = df[\"total_sales\"].values\n",
    "sales_per_customer = df[\"sales_per_customer\"].values\n",
    "\n",
    "# Create subplots\n",
    "fig, axes = plt.subplots(nrows=1, ncols=2, figsize=(10, 8))\n",
    "\n",
    "# Total sales chart\n",
    "axes[0].bar(sales_rep_name, total_sales, color='#BABABA', width=0.6)\n",
    "axes[0].bar(sales_rep_name[0], total_sales[0], color='#0064AB', alpha=0.3, width=0.6)\n",
    "\n",
    "# Total sales chart Label\n",
    "axes[0].text(x=-0.2, y=2150, s='Total Sales', size=11, fontweight='bold', alpha=0.4, ha='center')\n",
    "\n",
    "# Total sales annotations\n",
    "for sales, index in zip(total_sales, range(3)):\n",
    "    axes[0].text(x=index, y=sales+100, s='${:,}'.format(sales), ha='center', fontweight='bold', alpha=0.6, size=12)\n",
    "\n",
    "# Main chart title\n",
    "axes[0].text(x=0, y=2550, s='Employee Sales Performance', size=16, fontweight='bold', alpha=0.4, ha='center')\n",
    "\n",
    "# Average sales chart\n",
    "axes[1].bar(sales_rep_name, sales_per_customer, color='#BABABA', width=0.6)\n",
    "axes[1].bar(sales_rep_name[0], sales_per_customer[0], color='#0064AB', alpha=0.3, width=0.6)\n",
    "\n",
    "# Average sales chart Label\n",
    "axes[1].text(x=-0.2, y=10, s='Average Sales', size=11, fontweight='bold', alpha=0.4, ha='center')\n",
    "\n",
    "# Average sales annotations\n",
    "for sales, index in zip(sales_per_customer, range(3)):\n",
    "    axes[1].text(x=index, y=sales+0.3, s='${:,.2f}'.format(sales), ha='center', fontweight='bold', alpha=0.6, size=12)\n",
    "\n",
    "# Footnote\n",
    "axes[1].text(x=0, y=-3.5, s='Jane joined in April, Margaret in May, Steve in September 2017.', size=11, alpha=0.9)\n",
    "\n",
    "# Common attributes to both charts\n",
    "for ax in axes:\n",
    "    ax.spines['top'].set_visible(False)\n",
    "    ax.spines['right'].set_visible(False)\n",
    "    ax.spines['left'].set_color('#DDD')\n",
    "    ax.spines['left'].set_alpha(0.5)\n",
    "    ax.spines['bottom'].set_color('#DDD')\n",
    "    ax.spines['bottom'].set_alpha(0.5)\n",
    "\n",
    "    ax.tick_params(left=False, bottom=False, labelsize=10, labelcolor='grey')\n",
    "    ax.grid(axis='y', linestyle='-', alpha=0.3)  # Corrected linestyle from '' to '-'\n",
    "\n",
    "plt.tight_layout(rect=[0, 0.03, 1, 0.95])\n",
    "plt.show()\n"
   ]
  },
  {
   "cell_type": "markdown",
   "id": "ff079574",
   "metadata": {},
   "source": [
    "## Result"
   ]
  },
  {
   "cell_type": "markdown",
   "id": "436658e6",
   "metadata": {},
   "source": [
    ">• Of the three sales employees, Jane achieved the highest total sales of 1,731 dollars. Margaret Park comes second, and Steve occupies the last place with 1,393 dollars in sales. This difference in sales is understandable, considering that Jane and Margaret were employed about five months before Steve.  \n",
    ">• Jane's average sales numbers support her leading position. She has achieved 8.17 dollars in sales per customer, the highest of the three employees. Steve also performs marginally better than Margaret despite the difference in their employment dates."
   ]
  },
  {
   "cell_type": "markdown",
   "id": "3d1da655",
   "metadata": {},
   "source": [
    "## Sales by Country"
   ]
  },
  {
   "cell_type": "markdown",
   "id": "18e9df2d",
   "metadata": {},
   "source": [
    "### The Situation"
   ]
  },
  {
   "cell_type": "markdown",
   "id": "443fc19e",
   "metadata": {},
   "source": [
    "Chinook wants to understand how sales are distributed across different countries. The company intends to identify countries with growth potential and may even run advertising campaigns in these countries"
   ]
  },
  {
   "cell_type": "markdown",
   "id": "420a3f16",
   "metadata": {},
   "source": [
    "### Analysis"
   ]
  },
  {
   "cell_type": "markdown",
   "id": "9166e133",
   "metadata": {},
   "source": [
    "To answer this question, we will write a query that collates data on purchases from different countries. For each country, we will include the total number of customers, total sales value, average sales per customer, and the average order value. Where a country has only one customer, we will collect it into an \"Other\" group:"
   ]
  },
  {
   "cell_type": "code",
   "execution_count": 24,
   "id": "49aa7b71",
   "metadata": {},
   "outputs": [],
   "source": [
    "q = \"\"\"\n",
    "       WITH \n",
    "    -- Collate the number of customers in each country\n",
    "    t1 AS (\n",
    "        SELECT \n",
    "            country, \n",
    "            COUNT(customer_id) AS num_customers\n",
    "        FROM \n",
    "            customer\n",
    "        GROUP BY \n",
    "            country\n",
    "    ),\n",
    "    \n",
    "    -- Collate the total sales in each country\n",
    "    t2 AS (\n",
    "        SELECT \n",
    "            cu.country,\n",
    "            ROUND(SUM(iv.total), 2) AS total_sales,\n",
    "            COUNT(iv.invoice_id) AS num_sales\n",
    "        FROM \n",
    "            customer cu\n",
    "        JOIN \n",
    "            invoice iv ON cu.customer_id = iv.customer_id\n",
    "        GROUP BY \n",
    "            cu.country\n",
    "    ),\n",
    "\n",
    "    -- Group countries with only 1 customer as 'Others'\n",
    "    t3 AS (\n",
    "        SELECT\n",
    "            CASE\n",
    "                WHEN t1.num_customers = 1 THEN 'Others'\n",
    "                ELSE t1.country\n",
    "            END AS countries,\n",
    "            SUM(t1.num_customers) AS num_customers,\n",
    "            SUM(t2.total_sales) AS total_sales,\n",
    "            SUM(t2.num_sales) AS num_sales\n",
    "        FROM\n",
    "            t1\n",
    "        JOIN\n",
    "            t2 ON t1.country = t2.country\n",
    "        GROUP BY \n",
    "            countries\n",
    "    )\n",
    "\n",
    "-- Calculate relevant sales metrics\n",
    "SELECT \n",
    "    countries,\n",
    "    num_customers,\n",
    "    total_sales,\n",
    "    ROUND(total_sales / num_sales, 2) AS avg_order_value,\n",
    "    ROUND(total_sales / num_customers, 2) AS sales_per_customer\n",
    "FROM (\n",
    "    SELECT \n",
    "        *,\n",
    "        CASE \n",
    "            WHEN countries = 'Others' THEN 1\n",
    "            ELSE 0\n",
    "        END AS sort\n",
    "    FROM \n",
    "        t3\n",
    "    )\n",
    "ORDER BY \n",
    "    sort, \n",
    "    num_customers DESC;\n",
    "\n",
    "    \"\"\""
   ]
  },
  {
   "cell_type": "code",
   "execution_count": 25,
   "id": "3ad031d4",
   "metadata": {},
   "outputs": [
    {
     "data": {
      "text/html": [
       "<div>\n",
       "<style scoped>\n",
       "    .dataframe tbody tr th:only-of-type {\n",
       "        vertical-align: middle;\n",
       "    }\n",
       "\n",
       "    .dataframe tbody tr th {\n",
       "        vertical-align: top;\n",
       "    }\n",
       "\n",
       "    .dataframe thead th {\n",
       "        text-align: right;\n",
       "    }\n",
       "</style>\n",
       "<table border=\"1\" class=\"dataframe\">\n",
       "  <thead>\n",
       "    <tr style=\"text-align: right;\">\n",
       "      <th></th>\n",
       "      <th>countries</th>\n",
       "      <th>num_customers</th>\n",
       "      <th>total_sales</th>\n",
       "      <th>avg_order_value</th>\n",
       "      <th>sales_per_customer</th>\n",
       "    </tr>\n",
       "  </thead>\n",
       "  <tbody>\n",
       "    <tr>\n",
       "      <th>0</th>\n",
       "      <td>USA</td>\n",
       "      <td>13</td>\n",
       "      <td>1040.49</td>\n",
       "      <td>7.94</td>\n",
       "      <td>80.04</td>\n",
       "    </tr>\n",
       "    <tr>\n",
       "      <th>1</th>\n",
       "      <td>Canada</td>\n",
       "      <td>8</td>\n",
       "      <td>535.59</td>\n",
       "      <td>7.05</td>\n",
       "      <td>66.95</td>\n",
       "    </tr>\n",
       "    <tr>\n",
       "      <th>2</th>\n",
       "      <td>Brazil</td>\n",
       "      <td>5</td>\n",
       "      <td>427.68</td>\n",
       "      <td>7.01</td>\n",
       "      <td>85.54</td>\n",
       "    </tr>\n",
       "    <tr>\n",
       "      <th>3</th>\n",
       "      <td>France</td>\n",
       "      <td>5</td>\n",
       "      <td>389.07</td>\n",
       "      <td>7.78</td>\n",
       "      <td>77.81</td>\n",
       "    </tr>\n",
       "    <tr>\n",
       "      <th>4</th>\n",
       "      <td>Germany</td>\n",
       "      <td>4</td>\n",
       "      <td>334.62</td>\n",
       "      <td>8.16</td>\n",
       "      <td>83.66</td>\n",
       "    </tr>\n",
       "    <tr>\n",
       "      <th>5</th>\n",
       "      <td>United Kingdom</td>\n",
       "      <td>3</td>\n",
       "      <td>245.52</td>\n",
       "      <td>8.77</td>\n",
       "      <td>81.84</td>\n",
       "    </tr>\n",
       "    <tr>\n",
       "      <th>6</th>\n",
       "      <td>Czech Republic</td>\n",
       "      <td>2</td>\n",
       "      <td>273.24</td>\n",
       "      <td>9.11</td>\n",
       "      <td>136.62</td>\n",
       "    </tr>\n",
       "    <tr>\n",
       "      <th>7</th>\n",
       "      <td>India</td>\n",
       "      <td>2</td>\n",
       "      <td>183.15</td>\n",
       "      <td>8.72</td>\n",
       "      <td>91.58</td>\n",
       "    </tr>\n",
       "    <tr>\n",
       "      <th>8</th>\n",
       "      <td>Portugal</td>\n",
       "      <td>2</td>\n",
       "      <td>185.13</td>\n",
       "      <td>6.38</td>\n",
       "      <td>92.57</td>\n",
       "    </tr>\n",
       "    <tr>\n",
       "      <th>9</th>\n",
       "      <td>Others</td>\n",
       "      <td>15</td>\n",
       "      <td>1094.94</td>\n",
       "      <td>7.45</td>\n",
       "      <td>73.00</td>\n",
       "    </tr>\n",
       "  </tbody>\n",
       "</table>\n",
       "</div>"
      ],
      "text/plain": [
       "        countries  num_customers  total_sales  avg_order_value  \\\n",
       "0             USA             13      1040.49             7.94   \n",
       "1          Canada              8       535.59             7.05   \n",
       "2          Brazil              5       427.68             7.01   \n",
       "3          France              5       389.07             7.78   \n",
       "4         Germany              4       334.62             8.16   \n",
       "5  United Kingdom              3       245.52             8.77   \n",
       "6  Czech Republic              2       273.24             9.11   \n",
       "7           India              2       183.15             8.72   \n",
       "8        Portugal              2       185.13             6.38   \n",
       "9          Others             15      1094.94             7.45   \n",
       "\n",
       "   sales_per_customer  \n",
       "0               80.04  \n",
       "1               66.95  \n",
       "2               85.54  \n",
       "3               77.81  \n",
       "4               83.66  \n",
       "5               81.84  \n",
       "6              136.62  \n",
       "7               91.58  \n",
       "8               92.57  \n",
       "9               73.00  "
      ]
     },
     "execution_count": 25,
     "metadata": {},
     "output_type": "execute_result"
    }
   ],
   "source": [
    "df = run_query(q)\n",
    "df"
   ]
  },
  {
   "cell_type": "code",
   "execution_count": 27,
   "id": "edec5fa3",
   "metadata": {},
   "outputs": [
    {
     "name": "stdout",
     "output_type": "stream",
     "text": [
      "86.96099999999998\n"
     ]
    }
   ],
   "source": [
    "# Additional calculations\n",
    "avg_cust_purchase = df['sales_per_customer'].mean()  # Corrected indexing of 'sales_per_customer'\n",
    "print(avg_cust_purchase)\n",
    "df['pcent_customer'] = round(100 * df['num_customers'] / df['num_customers'].sum(), 1)  # Corrected indexing of 'num_customers'\n",
    "df['pcent_sales'] = round(100 * df['total_sales'] / df['total_sales'].sum(), 1)  # Corrected indexing of 'total_sales'\n",
    "df['cust_purchase_diff'] = round(100 * (df['sales_per_customer'] - avg_cust_purchase) / avg_cust_purchase, 2)  # Corrected the placement of the parenthesis and removed an extra comma\n"
   ]
  },
  {
   "cell_type": "code",
   "execution_count": 28,
   "id": "c41b7514",
   "metadata": {},
   "outputs": [
    {
     "data": {
      "text/html": [
       "<div>\n",
       "<style scoped>\n",
       "    .dataframe tbody tr th:only-of-type {\n",
       "        vertical-align: middle;\n",
       "    }\n",
       "\n",
       "    .dataframe tbody tr th {\n",
       "        vertical-align: top;\n",
       "    }\n",
       "\n",
       "    .dataframe thead th {\n",
       "        text-align: right;\n",
       "    }\n",
       "</style>\n",
       "<table border=\"1\" class=\"dataframe\">\n",
       "  <thead>\n",
       "    <tr style=\"text-align: right;\">\n",
       "      <th></th>\n",
       "      <th>countries</th>\n",
       "      <th>num_customers</th>\n",
       "      <th>total_sales</th>\n",
       "      <th>avg_order_value</th>\n",
       "      <th>sales_per_customer</th>\n",
       "      <th>pcent_customer</th>\n",
       "      <th>pcent_sales</th>\n",
       "      <th>cust_purchase_diff</th>\n",
       "    </tr>\n",
       "  </thead>\n",
       "  <tbody>\n",
       "    <tr>\n",
       "      <th>0</th>\n",
       "      <td>USA</td>\n",
       "      <td>13</td>\n",
       "      <td>1040.49</td>\n",
       "      <td>7.94</td>\n",
       "      <td>80.04</td>\n",
       "      <td>22.0</td>\n",
       "      <td>22.1</td>\n",
       "      <td>-7.96</td>\n",
       "    </tr>\n",
       "    <tr>\n",
       "      <th>1</th>\n",
       "      <td>Canada</td>\n",
       "      <td>8</td>\n",
       "      <td>535.59</td>\n",
       "      <td>7.05</td>\n",
       "      <td>66.95</td>\n",
       "      <td>13.6</td>\n",
       "      <td>11.4</td>\n",
       "      <td>-23.01</td>\n",
       "    </tr>\n",
       "    <tr>\n",
       "      <th>2</th>\n",
       "      <td>Brazil</td>\n",
       "      <td>5</td>\n",
       "      <td>427.68</td>\n",
       "      <td>7.01</td>\n",
       "      <td>85.54</td>\n",
       "      <td>8.5</td>\n",
       "      <td>9.1</td>\n",
       "      <td>-1.63</td>\n",
       "    </tr>\n",
       "    <tr>\n",
       "      <th>3</th>\n",
       "      <td>France</td>\n",
       "      <td>5</td>\n",
       "      <td>389.07</td>\n",
       "      <td>7.78</td>\n",
       "      <td>77.81</td>\n",
       "      <td>8.5</td>\n",
       "      <td>8.3</td>\n",
       "      <td>-10.52</td>\n",
       "    </tr>\n",
       "    <tr>\n",
       "      <th>4</th>\n",
       "      <td>Germany</td>\n",
       "      <td>4</td>\n",
       "      <td>334.62</td>\n",
       "      <td>8.16</td>\n",
       "      <td>83.66</td>\n",
       "      <td>6.8</td>\n",
       "      <td>7.1</td>\n",
       "      <td>-3.80</td>\n",
       "    </tr>\n",
       "    <tr>\n",
       "      <th>5</th>\n",
       "      <td>United Kingdom</td>\n",
       "      <td>3</td>\n",
       "      <td>245.52</td>\n",
       "      <td>8.77</td>\n",
       "      <td>81.84</td>\n",
       "      <td>5.1</td>\n",
       "      <td>5.2</td>\n",
       "      <td>-5.89</td>\n",
       "    </tr>\n",
       "    <tr>\n",
       "      <th>6</th>\n",
       "      <td>Czech Republic</td>\n",
       "      <td>2</td>\n",
       "      <td>273.24</td>\n",
       "      <td>9.11</td>\n",
       "      <td>136.62</td>\n",
       "      <td>3.4</td>\n",
       "      <td>5.8</td>\n",
       "      <td>57.10</td>\n",
       "    </tr>\n",
       "    <tr>\n",
       "      <th>7</th>\n",
       "      <td>India</td>\n",
       "      <td>2</td>\n",
       "      <td>183.15</td>\n",
       "      <td>8.72</td>\n",
       "      <td>91.58</td>\n",
       "      <td>3.4</td>\n",
       "      <td>3.9</td>\n",
       "      <td>5.31</td>\n",
       "    </tr>\n",
       "    <tr>\n",
       "      <th>8</th>\n",
       "      <td>Portugal</td>\n",
       "      <td>2</td>\n",
       "      <td>185.13</td>\n",
       "      <td>6.38</td>\n",
       "      <td>92.57</td>\n",
       "      <td>3.4</td>\n",
       "      <td>3.9</td>\n",
       "      <td>6.45</td>\n",
       "    </tr>\n",
       "    <tr>\n",
       "      <th>9</th>\n",
       "      <td>Others</td>\n",
       "      <td>15</td>\n",
       "      <td>1094.94</td>\n",
       "      <td>7.45</td>\n",
       "      <td>73.00</td>\n",
       "      <td>25.4</td>\n",
       "      <td>23.2</td>\n",
       "      <td>-16.05</td>\n",
       "    </tr>\n",
       "  </tbody>\n",
       "</table>\n",
       "</div>"
      ],
      "text/plain": [
       "        countries  num_customers  total_sales  avg_order_value  \\\n",
       "0             USA             13      1040.49             7.94   \n",
       "1          Canada              8       535.59             7.05   \n",
       "2          Brazil              5       427.68             7.01   \n",
       "3          France              5       389.07             7.78   \n",
       "4         Germany              4       334.62             8.16   \n",
       "5  United Kingdom              3       245.52             8.77   \n",
       "6  Czech Republic              2       273.24             9.11   \n",
       "7           India              2       183.15             8.72   \n",
       "8        Portugal              2       185.13             6.38   \n",
       "9          Others             15      1094.94             7.45   \n",
       "\n",
       "   sales_per_customer  pcent_customer  pcent_sales  cust_purchase_diff  \n",
       "0               80.04            22.0         22.1               -7.96  \n",
       "1               66.95            13.6         11.4              -23.01  \n",
       "2               85.54             8.5          9.1               -1.63  \n",
       "3               77.81             8.5          8.3              -10.52  \n",
       "4               83.66             6.8          7.1               -3.80  \n",
       "5               81.84             5.1          5.2               -5.89  \n",
       "6              136.62             3.4          5.8               57.10  \n",
       "7               91.58             3.4          3.9                5.31  \n",
       "8               92.57             3.4          3.9                6.45  \n",
       "9               73.00            25.4         23.2              -16.05  "
      ]
     },
     "execution_count": 28,
     "metadata": {},
     "output_type": "execute_result"
    }
   ],
   "source": [
    "df"
   ]
  },
  {
   "cell_type": "code",
   "execution_count": 29,
   "id": "493f86a9",
   "metadata": {},
   "outputs": [
    {
     "data": {
      "text/plain": [
       "49.65900000000002"
      ]
     },
     "execution_count": 29,
     "metadata": {},
     "output_type": "execute_result"
    }
   ],
   "source": [
    " (136.62 - 86.96099999999998)"
   ]
  },
  {
   "cell_type": "code",
   "execution_count": 34,
   "id": "6e524862",
   "metadata": {},
   "outputs": [
    {
     "data": {
      "image/png": "[encoded data removed]",
      "text/plain": [
       "<Figure size 500x600 with 1 Axes>"
      ]
     },
     "metadata": {},
     "output_type": "display_data"
    }
   ],
   "source": [
    "import seaborn as sns\n",
    "import matplotlib.pyplot as plt\n",
    "\n",
    "# Assuming df contains columns: countries, pcent_customer, pcent_sales, cust_purchase_diff\n",
    "y_labs = df['countries'].values\n",
    "y_axes = np.arange(df['countries'].size)\n",
    "fig = plt.figure(figsize=(5, 6))\n",
    "\n",
    "plt.barh(y_axes - 0.3, df['pcent_customer'], height=0.2, color='#acadad')\n",
    "plt.barh(y_axes - 0.1, df['pcent_sales'], height=0.2, color='#acadad')\n",
    "plt.barh(y_axes + 0.1, df['cust_purchase_diff'], height=0.2, color='#05afee')\n",
    "\n",
    "color_map = ['' for _ in range(len(y_labs))]  \n",
    "for i, label in enumerate(y_labs):\n",
    "    if color_map[i] == 'Yes':\n",
    "        plt.text(x=-2, y=y_axes[i] - 0.25, s=label, ha='right', color='#05afee')\n",
    "    else:\n",
    "        plt.text(x=-2, y=y_axes[i] - 0.25, s=label, ha='right', fontweight='bold')\n",
    "\n",
    "plt.text(x=-60, y=8.7, s='Customer Spending\\nvs Average', color='#05afee', size=12, fontweight='bold')\n",
    "plt.text(x=-60, y=8.3, s='Percentage Sales', color='#acadad', fontweight='bold')\n",
    "plt.text(x=-60, y=7.9, s='Customer Percentage', color='#acadad', fontweight='bold')\n",
    "plt.text(x=-60, y=11, s='Please approve a Marketing Compaign In\\nCzech Republic, India and Portugal', size=14, fontweight='bold')\n",
    "\n",
    "for ax in fig.get_axes():\n",
    "    plt.sca(ax)\n",
    "    sns.despine(left=True, bottom=True, top=False)\n",
    "    ax.tick_params(left=False, bottom=False, color='#DDD')\n",
    "    ax.xaxis.set_ticks_position('top')\n",
    "    ax.spines['top'].set_color('#DDD')\n",
    "    plt.yticks([])\n",
    "    plt.xticks([-20, 0, 20, 40, 60], ['-20%', '0', '20%', '40%', '60%'], size=10)\n",
    "\n",
    "plt.show()\n"
   ]
  },
  {
   "cell_type": "markdown",
   "id": "a2841b7c",
   "metadata": {},
   "source": [
    "## Result:"
   ]
  },
  {
   "cell_type": "markdown",
   "id": "e2ccb9a6",
   "metadata": {},
   "source": [
    ">- The Majority of Chinook sales arise from US and Canada. These two countries dominate in customer base as well as sales. However,customers spend lesser per invoice in these countries.\n",
    ">- Although the Czech Republic, Portugal, and India record fewer customers and lesser sales values, customers spend more per invoice than in other countries. To increase revenue from these three markets, Chinook could run marketing campaigns to expand its customer base."
   ]
  },
  {
   "cell_type": "markdown",
   "id": "2184517d",
   "metadata": {},
   "source": [
    "Since the data from each country are relatively few, the initial marketing campaigns should be small. They should aim to collect and analyze customer data so that the right trends are confidently identified"
   ]
  },
  {
   "cell_type": "markdown",
   "id": "410b15b0",
   "metadata": {},
   "source": [
    "## How Many Tracks Never Sell?"
   ]
  },
  {
   "cell_type": "markdown",
   "id": "cd097d91",
   "metadata": {},
   "source": [
    "To answer this question, we will have to distriguish between the entire inventory of tracks in the track table and the distinct instances of tracks from the invoice_line table."
   ]
  },
  {
   "cell_type": "code",
   "execution_count": 37,
   "id": "f2baf350",
   "metadata": {},
   "outputs": [],
   "source": [
    "q = \"\"\"WITH all_and_purchased AS\n",
    "(\n",
    "    SELECT \n",
    "        t.track_id AS all_tracks,\n",
    "        il.track_id AS purchased_tracks\n",
    "    FROM \n",
    "        track AS t \n",
    "    LEFT JOIN \n",
    "        invoice_line AS il ON t.track_id = il.track_id\n",
    ")\n",
    "SELECT \n",
    "    COUNT(DISTINCT a.all_tracks) AS total_tracks,\n",
    "    COUNT(DISTINCT a.purchased_tracks) AS tracks_purchased,\n",
    "    COUNT(DISTINCT a.all_tracks) - COUNT(DISTINCT a.purchased_tracks) AS not_purchased,\n",
    "    ROUND(COUNT(DISTINCT a.purchased_tracks) / NULLIF(CAST(COUNT(DISTINCT a.all_tracks) AS float), 0), 2) AS percent_purchased\n",
    "FROM \n",
    "    all_and_purchased AS a;\n",
    "\"\"\""
   ]
  },
  {
   "cell_type": "code",
   "execution_count": 38,
   "id": "fa1efbfa",
   "metadata": {},
   "outputs": [
    {
     "data": {
      "text/html": [
       "<div>\n",
       "<style scoped>\n",
       "    .dataframe tbody tr th:only-of-type {\n",
       "        vertical-align: middle;\n",
       "    }\n",
       "\n",
       "    .dataframe tbody tr th {\n",
       "        vertical-align: top;\n",
       "    }\n",
       "\n",
       "    .dataframe thead th {\n",
       "        text-align: right;\n",
       "    }\n",
       "</style>\n",
       "<table border=\"1\" class=\"dataframe\">\n",
       "  <thead>\n",
       "    <tr style=\"text-align: right;\">\n",
       "      <th></th>\n",
       "      <th>total_tracks</th>\n",
       "      <th>tracks_purchased</th>\n",
       "      <th>not_purchased</th>\n",
       "      <th>percent_purchased</th>\n",
       "    </tr>\n",
       "  </thead>\n",
       "  <tbody>\n",
       "    <tr>\n",
       "      <th>0</th>\n",
       "      <td>3503</td>\n",
       "      <td>1806</td>\n",
       "      <td>1697</td>\n",
       "      <td>0.52</td>\n",
       "    </tr>\n",
       "  </tbody>\n",
       "</table>\n",
       "</div>"
      ],
      "text/plain": [
       "   total_tracks  tracks_purchased  not_purchased  percent_purchased\n",
       "0          3503              1806           1697               0.52"
      ]
     },
     "execution_count": 38,
     "metadata": {},
     "output_type": "execute_result"
    }
   ],
   "source": [
    "purchased = run_query(q)\n",
    "purchased"
   ]
  },
  {
   "cell_type": "code",
   "execution_count": 39,
   "id": "1ee3a148",
   "metadata": {},
   "outputs": [],
   "source": [
    "purchased = purchased. T\n",
    "purchased = purchased.iloc[[1,2],0]\n",
    "purchased_list = purchased.tolist()"
   ]
  },
  {
   "cell_type": "code",
   "execution_count": 40,
   "id": "6c08fc39",
   "metadata": {},
   "outputs": [
    {
     "data": {
      "image/png": "[encoded data removed]",
      "text/plain": [
       "<Figure size 500x500 with 1 Axes>"
      ]
     },
     "metadata": {},
     "output_type": "display_data"
    }
   ],
   "source": [
    "# Plot\n",
    "plt.pie(purchased_list,\n",
    "        explode=(0, 0.03),\n",
    "        startangle=90,\n",
    "        autopct='%1.1f%%',  # Corrected the formatting\n",
    "        textprops={'fontsize': 14, 'color': 'white'}, \n",
    "        colors=('#BABABA', '#0064AB'))  # Corrected colors syntax\n",
    "\n",
    "# Plot Aesthetics\n",
    "plt.title('Tracks Purchased vs. Not Purchased', fontsize=15, color='gray')  # Corrected color syntax\n",
    "fig = plt.gcf()  # Corrected missing '=' sign\n",
    "fig.set_size_inches(5, 5)  # Corrected missing '.' between 'plt' and 'gcf'\n",
    "plt.show()\n"
   ]
  },
  {
   "cell_type": "markdown",
   "id": "d98766dd",
   "metadata": {},
   "source": [
    "### OBSERVATION:"
   ]
  },
  {
   "cell_type": "markdown",
   "id": "8d73e2ee",
   "metadata": {},
   "source": [
    "Suprisingly, almost half of the track inventory at Chinook has not sold. Lets take a look at the bottom performers and see of we can learn more:"
   ]
  },
  {
   "cell_type": "code",
   "execution_count": 49,
   "id": "821559fc",
   "metadata": {},
   "outputs": [],
   "source": [
    "q = \"\"\"\n",
    "SELECT ar.name AS artist_name, \n",
    "       g.name AS genre, \n",
    "       COUNT(il.track_id) AS units_sold\n",
    "FROM track AS t\n",
    "LEFT JOIN invoice_line AS il ON il.track_id = t.track_id\n",
    "INNER JOIN album AS al ON al.album_id = t.album_id\n",
    "INNER JOIN artist AS ar ON ar.artist_id = al.artist_id\n",
    "INNER JOIN genre AS g ON g.genre_id = t.genre_id\n",
    "GROUP BY artist_name, genre \n",
    "HAVING units_sold = 0\n",
    "ORDER BY units_sold;\n",
    "\"\"\""
   ]
  },
  {
   "cell_type": "code",
   "execution_count": 50,
   "id": "e06fc08b",
   "metadata": {},
   "outputs": [
    {
     "data": {
      "text/html": [
       "<div>\n",
       "<style scoped>\n",
       "    .dataframe tbody tr th:only-of-type {\n",
       "        vertical-align: middle;\n",
       "    }\n",
       "\n",
       "    .dataframe tbody tr th {\n",
       "        vertical-align: top;\n",
       "    }\n",
       "\n",
       "    .dataframe thead th {\n",
       "        text-align: right;\n",
       "    }\n",
       "</style>\n",
       "<table border=\"1\" class=\"dataframe\">\n",
       "  <thead>\n",
       "    <tr style=\"text-align: right;\">\n",
       "      <th></th>\n",
       "      <th>artist_name</th>\n",
       "      <th>genre</th>\n",
       "      <th>units_sold</th>\n",
       "    </tr>\n",
       "  </thead>\n",
       "  <tbody>\n",
       "    <tr>\n",
       "      <th>0</th>\n",
       "      <td>Aaron Copland &amp; London Symphony Orchestra</td>\n",
       "      <td>Classical</td>\n",
       "      <td>0</td>\n",
       "    </tr>\n",
       "    <tr>\n",
       "      <th>1</th>\n",
       "      <td>Academy of St. Martin in the Fields Chamber En...</td>\n",
       "      <td>Classical</td>\n",
       "      <td>0</td>\n",
       "    </tr>\n",
       "    <tr>\n",
       "      <th>2</th>\n",
       "      <td>Academy of St. Martin in the Fields, John Birc...</td>\n",
       "      <td>Classical</td>\n",
       "      <td>0</td>\n",
       "    </tr>\n",
       "    <tr>\n",
       "      <th>3</th>\n",
       "      <td>Academy of St. Martin in the Fields, Sir Nevil...</td>\n",
       "      <td>Classical</td>\n",
       "      <td>0</td>\n",
       "    </tr>\n",
       "    <tr>\n",
       "      <th>4</th>\n",
       "      <td>Adrian Leaper &amp; Doreen de Feis</td>\n",
       "      <td>Classical</td>\n",
       "      <td>0</td>\n",
       "    </tr>\n",
       "    <tr>\n",
       "      <th>...</th>\n",
       "      <td>...</td>\n",
       "      <td>...</td>\n",
       "      <td>...</td>\n",
       "    </tr>\n",
       "    <tr>\n",
       "      <th>75</th>\n",
       "      <td>Ton Koopman</td>\n",
       "      <td>Classical</td>\n",
       "      <td>0</td>\n",
       "    </tr>\n",
       "    <tr>\n",
       "      <th>76</th>\n",
       "      <td>Toquinho &amp; Vinícius</td>\n",
       "      <td>Bossa Nova</td>\n",
       "      <td>0</td>\n",
       "    </tr>\n",
       "    <tr>\n",
       "      <th>77</th>\n",
       "      <td>Various Artists</td>\n",
       "      <td>Latin</td>\n",
       "      <td>0</td>\n",
       "    </tr>\n",
       "    <tr>\n",
       "      <th>78</th>\n",
       "      <td>Various Artists</td>\n",
       "      <td>Pop</td>\n",
       "      <td>0</td>\n",
       "    </tr>\n",
       "    <tr>\n",
       "      <th>79</th>\n",
       "      <td>Various Artists</td>\n",
       "      <td>Soundtrack</td>\n",
       "      <td>0</td>\n",
       "    </tr>\n",
       "  </tbody>\n",
       "</table>\n",
       "<p>80 rows × 3 columns</p>\n",
       "</div>"
      ],
      "text/plain": [
       "                                          artist_name       genre  units_sold\n",
       "0           Aaron Copland & London Symphony Orchestra   Classical           0\n",
       "1   Academy of St. Martin in the Fields Chamber En...   Classical           0\n",
       "2   Academy of St. Martin in the Fields, John Birc...   Classical           0\n",
       "3   Academy of St. Martin in the Fields, Sir Nevil...   Classical           0\n",
       "4                      Adrian Leaper & Doreen de Feis   Classical           0\n",
       "..                                                ...         ...         ...\n",
       "75                                        Ton Koopman   Classical           0\n",
       "76                                Toquinho & Vinícius  Bossa Nova           0\n",
       "77                                    Various Artists       Latin           0\n",
       "78                                    Various Artists         Pop           0\n",
       "79                                    Various Artists  Soundtrack           0\n",
       "\n",
       "[80 rows x 3 columns]"
      ]
     },
     "execution_count": 50,
     "metadata": {},
     "output_type": "execute_result"
    }
   ],
   "source": [
    "run_query(q)"
   ]
  },
  {
   "cell_type": "markdown",
   "id": "4f44be90",
   "metadata": {},
   "source": [
    "### Observation:"
   ]
  },
  {
   "cell_type": "markdown",
   "id": "b29c5de2",
   "metadata": {},
   "source": [
    "74 artists have not sold any units, with most of these tracks belonging to the classical music genre.\n",
    "Half of the company's inventory remains unsold, potentially tying up working capital without generating returns.\n",
    "Depending on the payment arrangement with record labels, there are two scenarios to consider:"
   ]
  },
  {
   "cell_type": "markdown",
   "id": "524eaccd",
   "metadata": {},
   "source": [
    ">1. If Chinook pays a fixed fee to host these tracks, it might be wise to focus on more popular genres and discontinue signing less successful artists.\n",
    ">2. If Chinook pays the record label based on sales percentage, there is little downside to keeping the tracks in the store."
   ]
  },
  {
   "cell_type": "markdown",
   "id": "18a9930b",
   "metadata": {},
   "source": [
    "Regardless of the scenario, Chinook should explore ways to promote these low-selling artists. Suggestions could be integrated into the purchasing process or\n",
    "displayed on the website's cart page to increase exposure"
   ]
  },
  {
   "cell_type": "markdown",
   "id": "30c5edeb",
   "metadata": {},
   "source": [
    "## Albums vs Individual Tracks"
   ]
  },
  {
   "cell_type": "markdown",
   "id": "ed212ceb",
   "metadata": {},
   "source": [
    "The Chinook store allows customers to buy music in two ways: either as a complete album or as individual tracks. However, customers cannot buy a full album and then add individual tracks to the same purchase unless they select each track manually. When customers purchase albums, they are charged the same price as if they had bought each track separately."
   ]
  },
  {
   "cell_type": "markdown",
   "id": "40f8ea83",
   "metadata": {},
   "source": [
    "Management is contemplating a new purchasing approach to cut costs. Instead of buying every track from an album, they are considering purchasing only the most popular tracks from each album from record companies."
   ]
  },
  {
   "cell_type": "code",
   "execution_count": 51,
   "id": "99f16f6b",
   "metadata": {},
   "outputs": [],
   "source": [
    "q = \"\"\"WITH invoice_data AS (\n",
    "    SELECT invoice_id, MIN(track_id) AS track_id FROM invoice_line\n",
    "    GROUP BY invoice_id\n",
    "),\n",
    "Album_purchased AS (\n",
    "    SELECT \n",
    "        invd.invoice_id,\n",
    "        CASE\n",
    "            WHEN (\n",
    "                SELECT t2.track_id\n",
    "                FROM track t1\n",
    "                JOIN track t2 ON t1.album_id = t2.album_id\n",
    "                WHERE t1.track_id = invd.track_id\n",
    "                EXCEPT\n",
    "                SELECT il.track_id FROM invoice_line il\n",
    "                WHERE il.invoice_id = invd.invoice_id\n",
    "            ) IS NULL\n",
    "            AND (\n",
    "                SELECT il.track_id FROM invoice_line il\n",
    "                WHERE il.invoice_id = invd.invoice_id\n",
    "                EXCEPT\n",
    "                SELECT t2.track_id FROM track t1\n",
    "                JOIN track t2 ON t1.album_id = t2.album_id\n",
    "                WHERE t1.track_id = invd.track_id\n",
    "            ) IS NULL\n",
    "            THEN 'Yes' \n",
    "            ELSE 'No' \n",
    "        END AS Purchased_Album \n",
    "    FROM invoice_data invd\n",
    ")\n",
    "SELECT \n",
    "    Purchased_Album, \n",
    "    COUNT(invoice_id) AS no_of_invoices, \n",
    "    COUNT(invoice_id) * 100.0 / (SELECT COUNT(*) FROM Album_purchased) AS percent \n",
    "FROM Album_purchased\n",
    "GROUP BY 1;\n",
    "\"\"\""
   ]
  },
  {
   "cell_type": "code",
   "execution_count": 52,
   "id": "6ffa497d",
   "metadata": {},
   "outputs": [
    {
     "data": {
      "text/html": [
       "<div>\n",
       "<style scoped>\n",
       "    .dataframe tbody tr th:only-of-type {\n",
       "        vertical-align: middle;\n",
       "    }\n",
       "\n",
       "    .dataframe tbody tr th {\n",
       "        vertical-align: top;\n",
       "    }\n",
       "\n",
       "    .dataframe thead th {\n",
       "        text-align: right;\n",
       "    }\n",
       "</style>\n",
       "<table border=\"1\" class=\"dataframe\">\n",
       "  <thead>\n",
       "    <tr style=\"text-align: right;\">\n",
       "      <th></th>\n",
       "      <th>Purchased_Album</th>\n",
       "      <th>no_of_invoices</th>\n",
       "      <th>percent</th>\n",
       "    </tr>\n",
       "  </thead>\n",
       "  <tbody>\n",
       "    <tr>\n",
       "      <th>0</th>\n",
       "      <td>No</td>\n",
       "      <td>500</td>\n",
       "      <td>81.433225</td>\n",
       "    </tr>\n",
       "    <tr>\n",
       "      <th>1</th>\n",
       "      <td>Yes</td>\n",
       "      <td>114</td>\n",
       "      <td>18.566775</td>\n",
       "    </tr>\n",
       "  </tbody>\n",
       "</table>\n",
       "</div>"
      ],
      "text/plain": [
       "  Purchased_Album  no_of_invoices    percent\n",
       "0              No             500  81.433225\n",
       "1             Yes             114  18.566775"
      ]
     },
     "execution_count": 52,
     "metadata": {},
     "output_type": "execute_result"
    }
   ],
   "source": [
    "run_query(q)"
   ]
  },
  {
   "cell_type": "markdown",
   "id": "62bc6bf9",
   "metadata": {},
   "source": [
    "## Result:"
   ]
  },
  {
   "cell_type": "markdown",
   "id": "1fc3f68c",
   "metadata": {},
   "source": [
    "Most purchases (81%) from the store are individual tracks. However, in about 19% of cases, customers buy entire albums, Chinook should be careful with purchasing only the most popular tracks since it risks losing revenue from customers who purchase entire albums."
   ]
  },
  {
   "cell_type": "markdown",
   "id": "5a8b2390",
   "metadata": {},
   "source": [
    "# CONCLUSION & RECOMMENDATION:"
   ]
  },
  {
   "cell_type": "markdown",
   "id": "209ee61b",
   "metadata": {},
   "source": [
    "Throughout this project, we've been helping a pretend company figure out how to make more money. We've looked at different situations they might face and given them advice on how to handle them.\n",
    "\n",
    ">- First, when it comes to picking what kind of music to sell, we think the company should focus on genres that are really popular in the USA. So, they should consider making albums in styles like Hip-Hop, Punk, and Pop because those types of music seem to sell well. Also, since Rock music sells the most overall, it's a good idea for them to keep offering that too.\n",
    "\n",
    ">- Next, we looked at how well the employees are doing. Jane Peacock is doing the best out of everyone. But even though Steve Johnson has lower sales right now, he's new to the team. So, with a bit more training and support, he could do even better.\n",
    "\n",
    ">- Then, we checked out how sales are going in different countries. The USA and Canada have a lot of customers, but they don't spend as much each time they buy something. On the other hand, customers in places like the Czech Republic, India, and Portugal spend more per transaction. So, it might be a good idea to focus more on these countries with marketing to bring in even more customers.\n",
    "\n",
    ">- Lastly, we talked about how Chinook sells individual songs versus whole albums. Right now, they mostly focus on selling popular songs individually. But some customers might prefer buying whole albums instead. So, before they change their strategy, it would be smart to ask customers what they think.\n",
    "\n",
    "In summary, if Chinook listens to our advice and keeps up with what customers want, they can make their business better, make customers happier, and make more money in the long run."
   ]
  },
  {
   "cell_type": "code",
   "execution_count": null,
   "id": "ff6cc018",
   "metadata": {},
   "outputs": [],
   "source": []
  }
 ],
 "metadata": {
  "kernelspec": {
   "display_name": "Python 3 (ipykernel)",
   "language": "python",
   "name": "python3"
  },
  "language_info": {
   "codemirror_mode": {
    "name": "ipython",
    "version": 3
   },
   "file_extension": ".py",
   "mimetype": "text/x-python",
   "name": "python",
   "nbconvert_exporter": "python",
   "pygments_lexer": "ipython3",
   "version": "3.11.5"
  }
 },
 "nbformat": 4,
 "nbformat_minor": 5
}
